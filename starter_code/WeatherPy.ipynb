{
 "cells": [
  {
   "cell_type": "markdown",
   "metadata": {},
   "source": [
    "# WeatherPy\n",
    "----\n",
    "\n",
    "#### Note\n",
    "* Instructions have been included for each segment. You do not have to follow them exactly, but they are included to help you think through the steps."
   ]
  },
  {
   "cell_type": "code",
   "execution_count": 18,
   "metadata": {
    "scrolled": true
   },
   "outputs": [],
   "source": [
    "\n",
    "# Dependencies and Setup\n",
    "import matplotlib.pyplot as plt\n",
    "import pandas as pd\n",
    "import numpy as np\n",
    "import requests\n",
    "import time\n",
    "from scipy.stats import linregress\n",
    "import scipy.stats as st\n",
    "import os\n",
    "import json\n",
    "from pprint import pprint\n",
    "\n",
    "# Import API key\n",
    "from api_keys import weather_api_key\n",
    "\n",
    "# Incorporated citipy to determine city based on latitude and longitude\n",
    "from citipy import citipy\n",
    "\n",
    "# Output File (CSV)\n",
    "output_data_file = \"../output_data/cities.csv\"\n",
    "\n",
    "# Range of latitudes and longitudes\n",
    "lat_range = (-90, 90)\n",
    "lng_range = (-180, 180)"
   ]
  },
  {
   "cell_type": "markdown",
   "metadata": {},
   "source": [
    "## Generate Cities List"
   ]
  },
  {
   "cell_type": "code",
   "execution_count": 2,
   "metadata": {},
   "outputs": [
    {
     "data": {
      "text/plain": [
       "609"
      ]
     },
     "execution_count": 2,
     "metadata": {},
     "output_type": "execute_result"
    }
   ],
   "source": [
    "# List for holding lat_lngs and cities\n",
    "lat_lngs = []\n",
    "cities = []\n",
    "\n",
    "# Create a set of random lat and lng combinations\n",
    "lats = np.random.uniform(lat_range[0], lat_range[1], size=1500)\n",
    "lngs = np.random.uniform(lng_range[0], lng_range[1], size=1500)\n",
    "lat_lngs = zip(lats, lngs)\n",
    "\n",
    "# Identify nearest city for each lat, lng combination\n",
    "for lat_lng in lat_lngs:\n",
    "    city = citipy.nearest_city(lat_lng[0], lat_lng[1]).city_name\n",
    "    \n",
    "    # If the city is unique, then add it to a our cities list\n",
    "    if city not in cities:\n",
    "        cities.append(city)\n",
    "\n",
    "# Print the city count to confirm sufficient count\n",
    "len(cities)"
   ]
  },
  {
   "cell_type": "markdown",
   "metadata": {},
   "source": [
    "### Perform API Calls\n",
    "* Perform a weather check on each city using a series of successive API calls.\n",
    "* Include a print log of each city as it'sbeing processed (with the city number and city name).\n"
   ]
  },
  {
   "cell_type": "code",
   "execution_count": 6,
   "metadata": {},
   "outputs": [
    {
     "name": "stdout",
     "output_type": "stream",
     "text": [
      "Beginning Data Retrieval\n",
      "---------------------\n",
      "Processing 2 of 1 |   ushuaia\n",
      "Processing 3 of 1 |   warrington\n",
      "Processing 4 of 1 |   mount gambier\n",
      "Processing 5 of 1 |   cabo san lucas\n",
      "Processing 6 of 1 |   brentwood\n",
      "Processing 7 of 1 |   anda\n",
      "Processing 8 of 1 |   yellowknife\n",
      "Processing 9 of 1 |   caravelas\n",
      "Processing 10 of 1 |   moose factory\n",
      "Processing 11 of 1 |   lukovetskiy\n",
      "Processing 12 of 1 |   constitucion\n",
      "Processing 13 of 1 |   kapaa\n",
      "Processing 14 of 1 |   at-bashi\n",
      "Processing 15 of 1 |   husavik\n",
      "Processing 16 of 1 |   ilulissat\n",
      "city not found\n",
      "Processing 18 of 1 |   busselton\n",
      "Processing 19 of 1 |   puerto baquerizo moreno\n",
      "city not found\n",
      "Processing 21 of 1 |   beloha\n",
      "city not found\n",
      "Processing 23 of 1 |   bluff\n",
      "Processing 24 of 1 |   tuktoyaktuk\n",
      "Processing 25 of 1 |   beringovskiy\n",
      "city not found\n",
      "Processing 27 of 1 |   ranong\n",
      "Processing 28 of 1 |   mataura\n",
      "Processing 29 of 1 |   broken hill\n",
      "Processing 30 of 1 |   avarua\n",
      "Processing 31 of 1 |   huaidian\n",
      "Processing 32 of 1 |   vaini\n",
      "Processing 33 of 1 |   khilok\n",
      "Processing 34 of 1 |   changli\n",
      "Processing 35 of 1 |   mackay\n",
      "Processing 36 of 1 |   esperance\n",
      "Processing 37 of 1 |   koutiala\n",
      "Processing 38 of 1 |   ancud\n",
      "Processing 39 of 1 |   zhaotong\n",
      "Processing 40 of 1 |   cidreira\n",
      "Processing 41 of 1 |   rikitea\n",
      "Processing 42 of 1 |   katherine\n",
      "Processing 43 of 1 |   dentsville\n",
      "Processing 44 of 1 |   qaanaaq\n",
      "Processing 45 of 1 |   hobart\n",
      "Processing 46 of 1 |   alyangula\n",
      "Processing 47 of 1 |   new norfolk\n",
      "Processing 48 of 1 |   carnarvon\n",
      "Processing 49 of 1 |   maniitsoq\n",
      "Processing 50 of 1 |   dikson\n",
      "Processing 51 of 1 |   fallon\n",
      "Processing 1 of 2 |   saskylakh\n",
      "Processing 2 of 2 |   raga\n",
      "Processing 3 of 2 |   amarante do maranhao\n",
      "Processing 4 of 2 |   tuatapere\n",
      "Processing 5 of 2 |   atuona\n",
      "Processing 6 of 2 |   mar del plata\n",
      "Processing 7 of 2 |   kyren\n",
      "Processing 8 of 2 |   port elizabeth\n",
      "Processing 9 of 2 |   bredasdorp\n",
      "Processing 10 of 2 |   bengkulu\n",
      "Processing 11 of 2 |   mezen\n",
      "Processing 12 of 2 |   cape town\n",
      "Processing 13 of 2 |   rio cuarto\n",
      "Processing 14 of 2 |   barrow\n",
      "Processing 15 of 2 |   waingapu\n",
      "Processing 16 of 2 |   reyes\n",
      "Processing 17 of 2 |   bridlington\n",
      "city not found\n",
      "city not found\n",
      "Processing 20 of 2 |   plettenberg bay\n",
      "Processing 21 of 2 |   bethel\n",
      "Processing 22 of 2 |   nanortalik\n",
      "Processing 23 of 2 |   bathsheba\n",
      "Processing 24 of 2 |   santa vitoria do palmar\n",
      "city not found\n",
      "city not found\n",
      "Processing 27 of 2 |   katsuura\n",
      "city not found\n",
      "Processing 29 of 2 |   amahai\n",
      "Processing 30 of 2 |   rawson\n",
      "Processing 31 of 2 |   iqaluit\n",
      "city not found\n",
      "Processing 33 of 2 |   ostrovnoy\n",
      "Processing 34 of 2 |   bambous virieux\n",
      "Processing 35 of 2 |   albany\n",
      "Processing 36 of 2 |   vrangel\n",
      "Processing 37 of 2 |   nikolskoye\n",
      "Processing 38 of 2 |   kindu\n",
      "Processing 39 of 2 |   poltavka\n",
      "Processing 40 of 2 |   cayenne\n",
      "Processing 41 of 2 |   college\n",
      "Processing 42 of 2 |   loandjili\n",
      "Processing 43 of 2 |   ribeira grande\n",
      "Processing 44 of 2 |   fayaoue\n",
      "Processing 45 of 2 |   aleksandrov gay\n",
      "Processing 46 of 2 |   fairbanks\n",
      "Processing 47 of 2 |   saint george\n",
      "Processing 48 of 2 |   luderitz\n",
      "Processing 49 of 2 |   kainantu\n",
      "Processing 50 of 2 |   hasaki\n",
      "city not found\n",
      "Processing 2 of 3 |   kamakhyanagar\n",
      "Processing 3 of 3 |   arraial do cabo\n",
      "Processing 4 of 3 |   kruisfontein\n",
      "Processing 5 of 3 |   dawei\n",
      "Processing 6 of 3 |   pahrump\n",
      "Processing 7 of 3 |   hilo\n",
      "Processing 8 of 3 |   nuevitas\n",
      "Processing 9 of 3 |   punta arenas\n",
      "Processing 10 of 3 |   port alfred\n",
      "Processing 11 of 3 |   san jose\n",
      "Processing 12 of 3 |   pacific grove\n",
      "Processing 13 of 3 |   leningradskiy\n",
      "Processing 14 of 3 |   paullo\n",
      "Processing 15 of 3 |   laguna\n",
      "Processing 16 of 3 |   launceston\n",
      "Processing 17 of 3 |   mwinilunga\n",
      "Processing 18 of 3 |   touros\n",
      "Processing 19 of 3 |   hithadhoo\n",
      "Processing 20 of 3 |   saint-joseph\n",
      "Processing 21 of 3 |   touho\n",
      "Processing 22 of 3 |   petropavlivka\n",
      "Processing 23 of 3 |   comodoro rivadavia\n",
      "Processing 24 of 3 |   hermanus\n",
      "city not found\n",
      "Processing 26 of 3 |   mumford\n",
      "Processing 27 of 3 |   port lavaca\n",
      "Processing 28 of 3 |   thompson\n",
      "Processing 29 of 3 |   aklavik\n",
      "Processing 30 of 3 |   mandsaur\n",
      "Processing 31 of 3 |   sept-iles\n",
      "Processing 32 of 3 |   oyem\n",
      "Processing 33 of 3 |   guerrero negro\n",
      "Processing 34 of 3 |   coari\n",
      "Processing 35 of 3 |   chokurdakh\n",
      "Processing 36 of 3 |   atambua\n",
      "Processing 37 of 3 |   nabire\n",
      "Processing 38 of 3 |   tiksi\n",
      "Processing 39 of 3 |   pevek\n",
      "Processing 40 of 3 |   severo-kurilsk\n",
      "Processing 41 of 3 |   methoni\n",
      "Processing 42 of 3 |   yeniseysk\n",
      "Processing 43 of 3 |   jamestown\n",
      "city not found\n",
      "Processing 45 of 3 |   sisimiut\n",
      "Processing 46 of 3 |   pisco\n",
      "city not found\n",
      "Processing 48 of 3 |   deputatskiy\n",
      "Processing 49 of 3 |   nantucket\n",
      "Processing 50 of 3 |   tuscaloosa\n",
      "Processing 1 of 4 |   calabazar de sagua\n",
      "Processing 2 of 4 |   rio gallegos\n",
      "Processing 3 of 4 |   raduzhnyy\n",
      "Processing 4 of 4 |   talnakh\n",
      "Processing 5 of 4 |   puerto ayora\n",
      "city not found\n",
      "Processing 7 of 4 |   narsaq\n",
      "Processing 8 of 4 |   komsomolskiy\n",
      "Processing 9 of 4 |   coquimbo\n",
      "Processing 10 of 4 |   butaritari\n",
      "Processing 11 of 4 |   auki\n",
      "Processing 12 of 4 |   kozhevnikovo\n",
      "Processing 13 of 4 |   bugulma\n",
      "Processing 14 of 4 |   vanimo\n",
      "Processing 15 of 4 |   east london\n",
      "Processing 16 of 4 |   bad wildungen\n",
      "Processing 17 of 4 |   hay river\n",
      "Processing 18 of 4 |   khatanga\n",
      "Processing 19 of 4 |   saldanha\n",
      "Processing 20 of 4 |   labuan\n",
      "city not found\n",
      "Processing 22 of 4 |   dunedin\n",
      "city not found\n",
      "Processing 24 of 4 |   chuy\n",
      "Processing 25 of 4 |   bahir dar\n",
      "Processing 26 of 4 |   waspan\n",
      "Processing 27 of 4 |   ambilobe\n",
      "Processing 28 of 4 |   namibe\n",
      "Processing 29 of 4 |   mehamn\n",
      "Processing 30 of 4 |   clyde river\n",
      "Processing 31 of 4 |   tandil\n",
      "Processing 32 of 4 |   tautira\n",
      "Processing 33 of 4 |   zabol\n",
      "Processing 34 of 4 |   port hardy\n",
      "Processing 35 of 4 |   olafsvik\n",
      "Processing 36 of 4 |   meulaboh\n",
      "city not found\n",
      "Processing 38 of 4 |   ponta do sol\n",
      "Processing 39 of 4 |   portland\n",
      "Processing 40 of 4 |   sandwich\n",
      "Processing 41 of 4 |   borogontsy\n",
      "Processing 42 of 4 |   salalah\n",
      "Processing 43 of 4 |   yaroslavskaya\n",
      "Processing 44 of 4 |   hot springs\n",
      "Processing 45 of 4 |   xuanwu\n",
      "Processing 46 of 4 |   grand gaube\n",
      "Processing 47 of 4 |   golyshmanovo\n",
      "Processing 48 of 4 |   san cristobal\n",
      "Processing 49 of 4 |   tiarei\n",
      "Processing 50 of 4 |   hobyo\n",
      "Processing 1 of 5 |   la ronge\n",
      "city not found\n",
      "Processing 3 of 5 |   awash\n",
      "Processing 4 of 5 |   presidencia roque saenz pena\n",
      "Processing 5 of 5 |   cherskiy\n",
      "Processing 6 of 5 |   keflavik\n",
      "Processing 7 of 5 |   arauca\n",
      "Processing 8 of 5 |   seddon\n",
      "Processing 9 of 5 |   mendoza\n",
      "Processing 10 of 5 |   saint-philippe\n",
      "Processing 11 of 5 |   poronaysk\n",
      "Processing 12 of 5 |   koson\n",
      "Processing 13 of 5 |   amapa\n",
      "Processing 14 of 5 |   pojejena\n",
      "Processing 15 of 5 |   guanica\n",
      "Processing 16 of 5 |   georgetown\n",
      "city not found\n",
      "Processing 18 of 5 |   znamenskoye\n",
      "Processing 19 of 5 |   kautokeino\n",
      "Processing 20 of 5 |   luangwa\n",
      "Processing 21 of 5 |   cabedelo\n",
      "Processing 22 of 5 |   fortaleza\n",
      "Processing 23 of 5 |   taltal\n",
      "Processing 24 of 5 |   lebu\n",
      "Processing 25 of 5 |   kyabe\n",
      "Processing 26 of 5 |   broome\n",
      "Processing 27 of 5 |   lenine\n",
      "Processing 28 of 5 |   porto novo\n",
      "Processing 29 of 5 |   kuryk\n",
      "Processing 30 of 5 |   moranbah\n",
      "Processing 31 of 5 |   selu\n",
      "Processing 32 of 5 |   shakiso\n",
      "Processing 33 of 5 |   ilhabela\n",
      "Processing 34 of 5 |   hambantota\n",
      "Processing 35 of 5 |   vaxjo\n",
      "Processing 36 of 5 |   santa maria\n",
      "Processing 37 of 5 |   adre\n",
      "Processing 38 of 5 |   fortuna\n",
      "Processing 39 of 5 |   guaimaca\n",
      "Processing 40 of 5 |   alice springs\n",
      "Processing 41 of 5 |   sorland\n",
      "Processing 42 of 5 |   charters towers\n",
      "Processing 43 of 5 |   encruzilhada\n",
      "Processing 44 of 5 |   sibenik\n",
      "Processing 45 of 5 |   provideniya\n",
      "Processing 46 of 5 |   wrexham\n",
      "Processing 47 of 5 |   oranjemund\n",
      "Processing 48 of 5 |   victoria\n",
      "Processing 49 of 5 |   asau\n",
      "Processing 50 of 5 |   tehachapi\n",
      "Processing 1 of 6 |   kamenka\n",
      "Processing 2 of 6 |   goure\n",
      "city not found\n",
      "Processing 4 of 6 |   northam\n",
      "Processing 5 of 6 |   vilyuysk\n",
      "Processing 6 of 6 |   airai\n",
      "Processing 7 of 6 |   dingle\n",
      "Processing 8 of 6 |   horsham\n",
      "Processing 9 of 6 |   kaitangata\n",
      "Processing 10 of 6 |   longyearbyen\n",
      "Processing 11 of 6 |   mahebourg\n",
      "Processing 12 of 6 |   lavrentiya\n"
     ]
    },
    {
     "name": "stdout",
     "output_type": "stream",
     "text": [
      "Processing 13 of 6 |   kandi\n",
      "Processing 14 of 6 |   isangel\n",
      "Processing 15 of 6 |   eureka\n",
      "Processing 16 of 6 |   omboue\n",
      "Processing 17 of 6 |   lagoa\n",
      "Processing 18 of 6 |   maunabo\n",
      "Processing 19 of 6 |   sibu\n",
      "Processing 20 of 6 |   zaysan\n",
      "Processing 21 of 6 |   port blair\n",
      "Processing 22 of 6 |   sorong\n",
      "Processing 23 of 6 |   sandakan\n",
      "Processing 24 of 6 |   saint anthony\n",
      "Processing 25 of 6 |   bogorodskoye\n",
      "Processing 26 of 6 |   upernavik\n",
      "Processing 27 of 6 |   tarakan\n",
      "Processing 28 of 6 |   beipiao\n",
      "Processing 29 of 6 |   salina\n",
      "Processing 30 of 6 |   vestmannaeyjar\n",
      "Processing 31 of 6 |   torbay\n",
      "Processing 32 of 6 |   mahanoro\n",
      "Processing 33 of 6 |   bull savanna\n",
      "Processing 34 of 6 |   guadalupe y calvo\n",
      "city not found\n",
      "Processing 36 of 6 |   euclides da cunha\n",
      "Processing 37 of 6 |   petauke\n",
      "Processing 38 of 6 |   geraldton\n",
      "Processing 39 of 6 |   mizdah\n",
      "Processing 40 of 6 |   necochea\n",
      "Processing 41 of 6 |   vagur\n",
      "Processing 42 of 6 |   todos santos\n",
      "Processing 43 of 6 |   road town\n",
      "Processing 44 of 6 |   lompoc\n",
      "Processing 45 of 6 |   kiruna\n",
      "Processing 46 of 6 |   usinsk\n",
      "Processing 47 of 6 |   ponta delgada\n",
      "city not found\n",
      "Processing 49 of 6 |   egvekinot\n",
      "city not found\n",
      "Processing 1 of 7 |   sao filipe\n",
      "city not found\n",
      "Processing 3 of 7 |   gamba\n",
      "Processing 4 of 7 |   xining\n",
      "Processing 5 of 7 |   ugoofaaru\n",
      "Processing 6 of 7 |   karratha\n",
      "Processing 7 of 7 |   flinders\n",
      "city not found\n",
      "Processing 9 of 7 |   manavalakurichi\n",
      "Processing 10 of 7 |   madoc\n",
      "Processing 11 of 7 |   kupang\n",
      "Processing 12 of 7 |   bakchar\n",
      "Processing 13 of 7 |   whitehorse\n",
      "Processing 14 of 7 |   san policarpo\n",
      "city not found\n",
      "Processing 16 of 7 |   huntsville\n",
      "Processing 17 of 7 |   kloulklubed\n",
      "city not found\n",
      "Processing 19 of 7 |   ankazoabo\n",
      "Processing 20 of 7 |   fagernes\n",
      "Processing 21 of 7 |   pinawa\n",
      "Processing 22 of 7 |   kirovskiy\n",
      "Processing 23 of 7 |   jardim\n",
      "Processing 24 of 7 |   zhangye\n",
      "Processing 25 of 7 |   yar-sale\n",
      "Processing 26 of 7 |   sioux lookout\n",
      "Processing 27 of 7 |   monrovia\n",
      "city not found\n",
      "Processing 29 of 7 |   hauterive\n",
      "Processing 30 of 7 |   iquique\n",
      "Processing 31 of 7 |   tekeli\n",
      "Processing 32 of 7 |   san patricio\n",
      "Processing 33 of 7 |   cartagena\n",
      "Processing 34 of 7 |   villazon\n",
      "Processing 35 of 7 |   dakar\n",
      "Processing 36 of 7 |   pervomayskoye\n",
      "Processing 37 of 7 |   havoysund\n",
      "Processing 38 of 7 |   yerbogachen\n",
      "city not found\n",
      "Processing 40 of 7 |   haines junction\n",
      "Processing 41 of 7 |   kahului\n",
      "Processing 42 of 7 |   miri\n",
      "Processing 43 of 7 |   suba\n",
      "Processing 44 of 7 |   panlaitan\n",
      "Processing 45 of 7 |   sao caetano de odivelas\n",
      "Processing 46 of 7 |   humberto de campos\n",
      "Processing 47 of 7 |   tanout\n",
      "Processing 48 of 7 |   enshi\n",
      "Processing 49 of 7 |   teloloapan\n",
      "city not found\n",
      "Processing 1 of 8 |   tasiilaq\n",
      "Processing 2 of 8 |   bridgwater\n",
      "Processing 3 of 8 |   paamiut\n",
      "city not found\n",
      "Processing 5 of 8 |   jaru\n",
      "Processing 6 of 8 |   sayyan\n",
      "Processing 7 of 8 |   vardo\n",
      "Processing 8 of 8 |   fort nelson\n",
      "Processing 9 of 8 |   salym\n",
      "city not found\n",
      "Processing 11 of 8 |   tombouctou\n",
      "Processing 12 of 8 |   agustin codazzi\n",
      "city not found\n",
      "Processing 14 of 8 |   keighley\n",
      "Processing 15 of 8 |   quelimane\n",
      "Processing 16 of 8 |   teluknaga\n",
      "Processing 17 of 8 |   kendari\n",
      "Processing 18 of 8 |   adrar\n",
      "Processing 19 of 8 |   rocha\n",
      "Processing 20 of 8 |   marienburg\n",
      "Processing 21 of 8 |   richards bay\n",
      "city not found\n",
      "Processing 23 of 8 |   ngaoundere\n",
      "Processing 24 of 8 |   vershino-darasunskiy\n",
      "Processing 25 of 8 |   bolshoye selo\n",
      "Processing 26 of 8 |   arkansas city\n",
      "Processing 27 of 8 |   saint-pierre\n",
      "Processing 28 of 8 |   castro\n",
      "Processing 29 of 8 |   srednekolymsk\n",
      "Processing 30 of 8 |   santiago del estero\n",
      "Processing 31 of 8 |   byron bay\n",
      "Processing 32 of 8 |   tilichiki\n",
      "Processing 33 of 8 |   thoen\n",
      "Processing 34 of 8 |   denpasar\n",
      "Processing 35 of 8 |   bon air\n",
      "Processing 36 of 8 |   fomboni\n",
      "Processing 37 of 8 |   katunino\n",
      "Processing 38 of 8 |   verkh-usugli\n",
      "Processing 39 of 8 |   souillac\n",
      "Processing 40 of 8 |   morant bay\n",
      "Processing 41 of 8 |   kodiak\n",
      "Processing 42 of 8 |   luena\n",
      "Processing 43 of 8 |   batagay-alyta\n",
      "Processing 44 of 8 |   kattivakkam\n",
      "Processing 45 of 8 |   quesnel\n",
      "Processing 46 of 8 |   kaduna\n",
      "Processing 47 of 8 |   kalmunai\n",
      "Processing 48 of 8 |   sitka\n",
      "Processing 49 of 8 |   feldkirchen\n",
      "Processing 50 of 8 |   vao\n",
      "Processing 1 of 9 |   grindavik\n",
      "Processing 2 of 9 |   norman wells\n",
      "Processing 3 of 9 |   shubarshi\n",
      "Processing 4 of 9 |   aykhal\n",
      "Processing 5 of 9 |   dubti\n",
      "Processing 6 of 9 |   mana\n",
      "city not found\n",
      "Processing 8 of 9 |   calabozo\n",
      "city not found\n",
      "Processing 10 of 9 |   kavaratti\n",
      "Processing 11 of 9 |   tulare\n",
      "Processing 12 of 9 |   atar\n",
      "Processing 13 of 9 |   san quintin\n",
      "Processing 14 of 9 |   shihezi\n",
      "Processing 15 of 9 |   severodvinsk\n",
      "Processing 16 of 9 |   kidal\n",
      "Processing 17 of 9 |   santa ines\n",
      "Processing 18 of 9 |   tigil\n",
      "Processing 19 of 9 |   nouakchott\n",
      "Processing 20 of 9 |   port lincoln\n",
      "Processing 21 of 9 |   nang rong\n",
      "Processing 22 of 9 |   creel\n",
      "Processing 23 of 9 |   neuquen\n",
      "Processing 24 of 9 |   pimentel\n",
      "city not found\n",
      "Processing 26 of 9 |   campos\n",
      "Processing 27 of 9 |   hirara\n",
      "Processing 28 of 9 |   villacidro\n",
      "Processing 29 of 9 |   vestmanna\n",
      "Processing 30 of 9 |   zanesville\n",
      "Processing 31 of 9 |   high prairie\n",
      "Processing 32 of 9 |   saint-leu\n",
      "Processing 33 of 9 |   beausejour\n",
      "Processing 34 of 9 |   moree\n",
      "Processing 35 of 9 |   goderich\n",
      "Processing 36 of 9 |   loukhi\n",
      "Processing 37 of 9 |   makat\n",
      "Processing 38 of 9 |   birjand\n",
      "Processing 39 of 9 |   naze\n",
      "Processing 40 of 9 |   korla\n",
      "Processing 41 of 9 |   kisangani\n",
      "Processing 42 of 9 |   ballina\n",
      "Processing 43 of 9 |   maragogi\n",
      "Processing 44 of 9 |   te anau\n",
      "Processing 45 of 9 |   maturin\n",
      "city not found\n",
      "Processing 47 of 9 |   lensk\n",
      "Processing 48 of 9 |   kavieng\n",
      "Processing 49 of 9 |   bereda\n",
      "Processing 50 of 9 |   abu dhabi\n",
      "Processing 1 of 10 |   hami\n",
      "city not found\n",
      "Processing 3 of 10 |   axim\n",
      "Processing 4 of 10 |   khandbari\n",
      "Processing 5 of 10 |   yulara\n",
      "Processing 6 of 10 |   yarada\n",
      "Processing 7 of 10 |   arica\n",
      "Processing 8 of 10 |   pangnirtung\n",
      "Processing 9 of 10 |   yingcheng\n",
      "Processing 10 of 10 |   bahia honda\n",
      "Processing 11 of 10 |   morros\n",
      "Processing 12 of 10 |   mount isa\n",
      "Processing 13 of 10 |   boyuibe\n",
      "Processing 14 of 10 |   noumea\n",
      "Processing 15 of 10 |   lasa\n",
      "Processing 16 of 10 |   kigorobya\n",
      "Processing 17 of 10 |   sisophon\n",
      "Processing 18 of 10 |   zhangjiakou\n",
      "Processing 19 of 10 |   eydhafushi\n",
      "Processing 20 of 10 |   muhos\n",
      "Processing 21 of 10 |   phan thiet\n",
      "Processing 22 of 10 |   san pedro\n",
      "Processing 23 of 10 |   tabuk\n",
      "Processing 24 of 10 |   masaling\n",
      "city not found\n",
      "Processing 26 of 10 |   belfast\n",
      "Processing 27 of 10 |   saint-prosper\n",
      "city not found\n",
      "Processing 29 of 10 |   la libertad\n",
      "Processing 30 of 10 |   sur\n",
      "Processing 31 of 10 |   qaqortoq\n",
      "Processing 32 of 10 |   umea\n",
      "Processing 33 of 10 |   ryotsu\n",
      "Processing 34 of 10 |   la romana\n",
      "Processing 35 of 10 |   anadyr\n",
      "Processing 36 of 10 |   walvis bay\n",
      "Processing 37 of 10 |   zhigansk\n",
      "city not found\n",
      "Processing 39 of 10 |   batemans bay\n",
      "Processing 40 of 10 |   naantali\n",
      "Processing 41 of 10 |   kargopol\n",
      "Processing 42 of 10 |   kalol\n",
      "Processing 43 of 10 |   lockhart\n",
      "Processing 44 of 10 |   ukiah\n",
      "Processing 45 of 10 |   mkushi\n",
      "Processing 46 of 10 |   minas\n",
      "Processing 47 of 10 |   salinas\n",
      "Processing 48 of 10 |   lorengau\n",
      "city not found\n",
      "Processing 50 of 10 |   oxapampa\n",
      "Processing 1 of 11 |   hamilton\n",
      "Processing 2 of 11 |   tatarsk\n",
      "Processing 3 of 11 |   kijang\n",
      "Processing 4 of 11 |   bautzen\n",
      "Processing 5 of 11 |   mogadishu\n",
      "city not found\n",
      "Processing 7 of 11 |   poum\n",
      "Processing 8 of 11 |   inhambane\n",
      "Processing 9 of 11 |   beyneu\n",
      "Processing 10 of 11 |   urumqi\n",
      "Processing 11 of 11 |   imphal\n",
      "Processing 12 of 11 |   alofi\n",
      "Processing 13 of 11 |   orotukan\n",
      "city not found\n",
      "Processing 15 of 11 |   belyy yar\n",
      "Processing 16 of 11 |   ritchie\n",
      "Processing 17 of 11 |   emba\n",
      "Processing 18 of 11 |   vila franca do campo\n",
      "Processing 19 of 11 |   port macquarie\n",
      "Processing 20 of 11 |   mirnyy\n",
      "Processing 21 of 11 |   arlit\n",
      "Processing 22 of 11 |   tera\n",
      "Processing 23 of 11 |   bubaque\n",
      "Processing 24 of 11 |   vila velha\n",
      "Processing 25 of 11 |   mecca\n",
      "Processing 26 of 11 |   tessalit\n",
      "Processing 27 of 11 |   sucua\n",
      "Processing 28 of 11 |   altamira\n",
      "Processing 29 of 11 |   dalvik\n",
      "Processing 30 of 11 |   fiumicino\n"
     ]
    },
    {
     "name": "stdout",
     "output_type": "stream",
     "text": [
      "Processing 31 of 11 |   pringsewu\n",
      "Processing 32 of 11 |   glenwood springs\n",
      "city not found\n",
      "Processing 34 of 11 |   kaduqli\n",
      "Processing 35 of 11 |   caucaia\n",
      "Processing 36 of 11 |   tabou\n",
      "Processing 37 of 11 |   tezu\n",
      "Processing 38 of 11 |   novorudnyy\n",
      "Processing 39 of 11 |   pingliang\n",
      "Processing 40 of 11 |   itapaci\n",
      "Processing 41 of 11 |   tucupita\n",
      "Processing 42 of 11 |   shemonaikha\n",
      "Processing 43 of 11 |   sola\n",
      "city not found\n",
      "Processing 45 of 11 |   inuvik\n",
      "Processing 46 of 11 |   wanaka\n",
      "Processing 47 of 11 |   shu\n",
      "Processing 48 of 11 |   delta del tigre\n",
      "Processing 49 of 11 |   boende\n",
      "Processing 50 of 11 |   pathalgaon\n",
      "Processing 1 of 12 |   fengzhen\n",
      "Processing 2 of 12 |   ghatampur\n",
      "Processing 3 of 12 |   bageshwar\n",
      "Processing 4 of 12 |   casper\n",
      "Processing 5 of 12 |   port hedland\n",
      "Processing 6 of 12 |   lapeer\n",
      "city not found\n",
      "Processing 8 of 12 |   ornskoldsvik\n",
      "Processing 9 of 12 |   carbonia\n",
      "Processing 10 of 12 |   kampot\n",
      "Processing 11 of 12 |   vieux fort\n",
      "Processing 12 of 12 |   nelson bay\n",
      "Processing 13 of 12 |   bilibino\n",
      "Processing 14 of 12 |   tammisaari\n",
      "Processing 15 of 12 |   taitung\n",
      "Processing 16 of 12 |   honningsvag\n",
      "Processing 17 of 12 |   pishin\n",
      "Processing 18 of 12 |   abu zabad\n",
      "Processing 19 of 12 |   smoky lake\n",
      "Processing 20 of 12 |   tshikapa\n",
      "Processing 21 of 12 |   ketchikan\n",
      "Processing 22 of 12 |   high rock\n",
      "Processing 23 of 12 |   merauke\n",
      "Processing 24 of 12 |   thanh hoa\n",
      "Processing 25 of 12 |   eyl\n",
      "Processing 26 of 12 |   sale\n",
      "Processing 27 of 12 |   krasnogorodsk\n",
      "Processing 28 of 12 |   niamey\n",
      "Processing 29 of 12 |   valley station\n",
      "Processing 30 of 12 |   chalus\n",
      "Processing 31 of 12 |   sweetwater\n",
      "Processing 32 of 12 |   zelenogorskiy\n",
      "Processing 33 of 12 |   honiara\n",
      "Processing 34 of 12 |   taunggyi\n",
      "Processing 35 of 12 |   yeppoon\n",
      "Processing 36 of 12 |   puerto carreno\n",
      "Processing 37 of 12 |   victor harbor\n",
      "Processing 38 of 12 |   tonota\n",
      "Processing 39 of 12 |   mao\n",
      "Processing 40 of 12 |   zdvinsk\n",
      "Processing 41 of 12 |   russell\n",
      "Processing 42 of 12 |   ambon\n",
      "Processing 43 of 12 |   prescott\n",
      "Processing 44 of 12 |   latung\n",
      "Processing 45 of 12 |   laramie\n",
      "Processing 46 of 12 |   gladstone\n",
      "Processing 47 of 12 |   mitu\n",
      "Processing 48 of 12 |   vadlapudi\n",
      "Processing 49 of 12 |   uige\n",
      "Processing 50 of 12 |   kosh-agach\n",
      "Processing 1 of 13 |   carlagan\n",
      "Processing 2 of 13 |   avila\n",
      "Processing 3 of 13 |   las vegas\n",
      "Processing 4 of 13 |   paungde\n",
      "Processing 5 of 13 |   ekibastuz\n",
      "city not found\n",
      "Processing 7 of 13 |   atherton\n",
      "Processing 8 of 13 |   bulgan\n",
      "Processing 9 of 13 |   sabha\n",
      "---------------------\n",
      "Data Retrieval Complete\n"
     ]
    }
   ],
   "source": [
    "url = \"http://api.openweathermap.org/data/2.5/weather?units=Imperial&APPID=\" + weather_api_key\n",
    "\n",
    "cities_list=[]\n",
    "\n",
    "print('Beginning Data Retrieval')\n",
    "print('---------------------')\n",
    "record_count=1\n",
    "set_count=1\n",
    "\n",
    "for i, city in enumerate(cities):\n",
    "    if (i % 50 == 0 and i >= 50):\n",
    "        set_count += 1\n",
    "        record_count = 0\n",
    "    city_url = url+ \"&q=\" + city\n",
    "    record_count +=1\n",
    "    response = requests.get(city_url).json()\n",
    "    try:\n",
    "        #print(city_url)\n",
    "        #response = requests.get(city_url).json()\n",
    "        \n",
    "        lat=response['coord']['lat']\n",
    "        lng= response['coord']['lon']\n",
    "        max_temp= response['main']['temp_max']\n",
    "        humidity= response['main']['humidity']\n",
    "        cloudiness= response['clouds']['all']\n",
    "        wind_speed=response['wind']['speed']\n",
    "        country=response['sys']['country']\n",
    "        date=response['dt']\n",
    "        cities_list.append({\"city\":city,\n",
    "                         \"Lat\" : lat,\n",
    "                        \"Lng\":lng,\n",
    "                         \"Max Temp\":max_temp,\n",
    "                         \"Humidity\":humidity,\n",
    "                         \"Cloudiness\":cloudiness,\n",
    "                         \"Wind Speed\":wind_speed,\n",
    "                         \"Country\":country,\n",
    "                         \"Date\":date\n",
    "                        })\n",
    "        print(f\"Processing {record_count} of {set_count} |   {city}\")\n",
    "    except:\n",
    "        print(\"city not found\")\n",
    "        pass\n",
    "                          \n",
    "print('---------------------')\n",
    "print('Data Retrieval Complete')"
   ]
  },
  {
   "cell_type": "markdown",
   "metadata": {},
   "source": [
    "### Convert Raw Data to DataFrame\n",
    "* Export the city data into a .csv.\n",
    "* Display the DataFrame"
   ]
  },
  {
   "cell_type": "code",
   "execution_count": 10,
   "metadata": {},
   "outputs": [
    {
     "data": {
      "text/html": [
       "<div>\n",
       "<style scoped>\n",
       "    .dataframe tbody tr th:only-of-type {\n",
       "        vertical-align: middle;\n",
       "    }\n",
       "\n",
       "    .dataframe tbody tr th {\n",
       "        vertical-align: top;\n",
       "    }\n",
       "\n",
       "    .dataframe thead th {\n",
       "        text-align: right;\n",
       "    }\n",
       "</style>\n",
       "<table border=\"1\" class=\"dataframe\">\n",
       "  <thead>\n",
       "    <tr style=\"text-align: right;\">\n",
       "      <th></th>\n",
       "      <th>city</th>\n",
       "      <th>Lat</th>\n",
       "      <th>Lng</th>\n",
       "      <th>Max Temp</th>\n",
       "      <th>Humidity</th>\n",
       "      <th>Cloudiness</th>\n",
       "      <th>Wind Speed</th>\n",
       "      <th>Country</th>\n",
       "      <th>Date</th>\n",
       "    </tr>\n",
       "  </thead>\n",
       "  <tbody>\n",
       "    <tr>\n",
       "      <th>0</th>\n",
       "      <td>ushuaia</td>\n",
       "      <td>-54.80</td>\n",
       "      <td>-68.30</td>\n",
       "      <td>42.80</td>\n",
       "      <td>70</td>\n",
       "      <td>75</td>\n",
       "      <td>11.41</td>\n",
       "      <td>AR</td>\n",
       "      <td>1603497737</td>\n",
       "    </tr>\n",
       "    <tr>\n",
       "      <th>1</th>\n",
       "      <td>warrington</td>\n",
       "      <td>53.39</td>\n",
       "      <td>-2.58</td>\n",
       "      <td>46.99</td>\n",
       "      <td>81</td>\n",
       "      <td>40</td>\n",
       "      <td>11.41</td>\n",
       "      <td>GB</td>\n",
       "      <td>1603497737</td>\n",
       "    </tr>\n",
       "    <tr>\n",
       "      <th>2</th>\n",
       "      <td>mount gambier</td>\n",
       "      <td>-37.83</td>\n",
       "      <td>140.77</td>\n",
       "      <td>55.40</td>\n",
       "      <td>54</td>\n",
       "      <td>75</td>\n",
       "      <td>21.92</td>\n",
       "      <td>AU</td>\n",
       "      <td>1603497737</td>\n",
       "    </tr>\n",
       "    <tr>\n",
       "      <th>3</th>\n",
       "      <td>cabo san lucas</td>\n",
       "      <td>22.89</td>\n",
       "      <td>-109.91</td>\n",
       "      <td>88.00</td>\n",
       "      <td>58</td>\n",
       "      <td>5</td>\n",
       "      <td>11.41</td>\n",
       "      <td>MX</td>\n",
       "      <td>1603497669</td>\n",
       "    </tr>\n",
       "    <tr>\n",
       "      <th>4</th>\n",
       "      <td>brentwood</td>\n",
       "      <td>40.78</td>\n",
       "      <td>-73.25</td>\n",
       "      <td>64.40</td>\n",
       "      <td>93</td>\n",
       "      <td>90</td>\n",
       "      <td>9.17</td>\n",
       "      <td>US</td>\n",
       "      <td>1603497662</td>\n",
       "    </tr>\n",
       "  </tbody>\n",
       "</table>\n",
       "</div>"
      ],
      "text/plain": [
       "             city    Lat     Lng  Max Temp  Humidity  Cloudiness  Wind Speed  \\\n",
       "0         ushuaia -54.80  -68.30     42.80        70          75       11.41   \n",
       "1      warrington  53.39   -2.58     46.99        81          40       11.41   \n",
       "2   mount gambier -37.83  140.77     55.40        54          75       21.92   \n",
       "3  cabo san lucas  22.89 -109.91     88.00        58           5       11.41   \n",
       "4       brentwood  40.78  -73.25     64.40        93          90        9.17   \n",
       "\n",
       "  Country        Date  \n",
       "0      AR  1603497737  \n",
       "1      GB  1603497737  \n",
       "2      AU  1603497737  \n",
       "3      MX  1603497669  \n",
       "4      US  1603497662  "
      ]
     },
     "execution_count": 10,
     "metadata": {},
     "output_type": "execute_result"
    }
   ],
   "source": [
    "\n",
    "weather = pd.DataFrame(cities_list)\n",
    "weather.head()"
   ]
  },
  {
   "cell_type": "code",
   "execution_count": 11,
   "metadata": {},
   "outputs": [
    {
     "data": {
      "text/html": [
       "<div>\n",
       "<style scoped>\n",
       "    .dataframe tbody tr th:only-of-type {\n",
       "        vertical-align: middle;\n",
       "    }\n",
       "\n",
       "    .dataframe tbody tr th {\n",
       "        vertical-align: top;\n",
       "    }\n",
       "\n",
       "    .dataframe thead th {\n",
       "        text-align: right;\n",
       "    }\n",
       "</style>\n",
       "<table border=\"1\" class=\"dataframe\">\n",
       "  <thead>\n",
       "    <tr style=\"text-align: right;\">\n",
       "      <th></th>\n",
       "      <th>Lat</th>\n",
       "      <th>Lng</th>\n",
       "      <th>Max Temp</th>\n",
       "      <th>Humidity</th>\n",
       "      <th>Cloudiness</th>\n",
       "      <th>Wind Speed</th>\n",
       "      <th>Date</th>\n",
       "    </tr>\n",
       "  </thead>\n",
       "  <tbody>\n",
       "    <tr>\n",
       "      <th>count</th>\n",
       "      <td>559.000000</td>\n",
       "      <td>559.000000</td>\n",
       "      <td>559.000000</td>\n",
       "      <td>559.000000</td>\n",
       "      <td>559.000000</td>\n",
       "      <td>559.000000</td>\n",
       "      <td>5.590000e+02</td>\n",
       "    </tr>\n",
       "    <tr>\n",
       "      <th>mean</th>\n",
       "      <td>19.688640</td>\n",
       "      <td>18.510107</td>\n",
       "      <td>59.420286</td>\n",
       "      <td>75.751342</td>\n",
       "      <td>54.388193</td>\n",
       "      <td>7.834776</td>\n",
       "      <td>1.603497e+09</td>\n",
       "    </tr>\n",
       "    <tr>\n",
       "      <th>std</th>\n",
       "      <td>33.742205</td>\n",
       "      <td>90.641029</td>\n",
       "      <td>20.558783</td>\n",
       "      <td>19.698827</td>\n",
       "      <td>37.607784</td>\n",
       "      <td>5.583995</td>\n",
       "      <td>1.430030e+02</td>\n",
       "    </tr>\n",
       "    <tr>\n",
       "      <th>min</th>\n",
       "      <td>-54.800000</td>\n",
       "      <td>-179.170000</td>\n",
       "      <td>-4.000000</td>\n",
       "      <td>10.000000</td>\n",
       "      <td>0.000000</td>\n",
       "      <td>0.540000</td>\n",
       "      <td>1.603497e+09</td>\n",
       "    </tr>\n",
       "    <tr>\n",
       "      <th>25%</th>\n",
       "      <td>-8.560000</td>\n",
       "      <td>-63.770000</td>\n",
       "      <td>43.000000</td>\n",
       "      <td>68.000000</td>\n",
       "      <td>19.500000</td>\n",
       "      <td>3.555000</td>\n",
       "      <td>1.603497e+09</td>\n",
       "    </tr>\n",
       "    <tr>\n",
       "      <th>50%</th>\n",
       "      <td>20.890000</td>\n",
       "      <td>21.700000</td>\n",
       "      <td>66.200000</td>\n",
       "      <td>80.000000</td>\n",
       "      <td>66.000000</td>\n",
       "      <td>6.420000</td>\n",
       "      <td>1.603497e+09</td>\n",
       "    </tr>\n",
       "    <tr>\n",
       "      <th>75%</th>\n",
       "      <td>49.025000</td>\n",
       "      <td>99.780000</td>\n",
       "      <td>77.000000</td>\n",
       "      <td>91.000000</td>\n",
       "      <td>90.000000</td>\n",
       "      <td>10.600000</td>\n",
       "      <td>1.603497e+09</td>\n",
       "    </tr>\n",
       "    <tr>\n",
       "      <th>max</th>\n",
       "      <td>78.220000</td>\n",
       "      <td>179.320000</td>\n",
       "      <td>89.600000</td>\n",
       "      <td>100.000000</td>\n",
       "      <td>100.000000</td>\n",
       "      <td>36.910000</td>\n",
       "      <td>1.603498e+09</td>\n",
       "    </tr>\n",
       "  </tbody>\n",
       "</table>\n",
       "</div>"
      ],
      "text/plain": [
       "              Lat         Lng    Max Temp    Humidity  Cloudiness  Wind Speed  \\\n",
       "count  559.000000  559.000000  559.000000  559.000000  559.000000  559.000000   \n",
       "mean    19.688640   18.510107   59.420286   75.751342   54.388193    7.834776   \n",
       "std     33.742205   90.641029   20.558783   19.698827   37.607784    5.583995   \n",
       "min    -54.800000 -179.170000   -4.000000   10.000000    0.000000    0.540000   \n",
       "25%     -8.560000  -63.770000   43.000000   68.000000   19.500000    3.555000   \n",
       "50%     20.890000   21.700000   66.200000   80.000000   66.000000    6.420000   \n",
       "75%     49.025000   99.780000   77.000000   91.000000   90.000000   10.600000   \n",
       "max     78.220000  179.320000   89.600000  100.000000  100.000000   36.910000   \n",
       "\n",
       "               Date  \n",
       "count  5.590000e+02  \n",
       "mean   1.603497e+09  \n",
       "std    1.430030e+02  \n",
       "min    1.603497e+09  \n",
       "25%    1.603497e+09  \n",
       "50%    1.603497e+09  \n",
       "75%    1.603497e+09  \n",
       "max    1.603498e+09  "
      ]
     },
     "execution_count": 11,
     "metadata": {},
     "output_type": "execute_result"
    }
   ],
   "source": [
    "weather.describe()"
   ]
  },
  {
   "cell_type": "markdown",
   "metadata": {},
   "source": [
    "## Inspect the data and remove the cities where the humidity > 100%.\n",
    "----\n",
    "Skip this step if there are no cities that have humidity > 100%. "
   ]
  },
  {
   "cell_type": "code",
   "execution_count": 6,
   "metadata": {},
   "outputs": [
    {
     "data": {
      "text/html": [
       "<div>\n",
       "<style scoped>\n",
       "    .dataframe tbody tr th:only-of-type {\n",
       "        vertical-align: middle;\n",
       "    }\n",
       "\n",
       "    .dataframe tbody tr th {\n",
       "        vertical-align: top;\n",
       "    }\n",
       "\n",
       "    .dataframe thead th {\n",
       "        text-align: right;\n",
       "    }\n",
       "</style>\n",
       "<table border=\"1\" class=\"dataframe\">\n",
       "  <thead>\n",
       "    <tr style=\"text-align: right;\">\n",
       "      <th></th>\n",
       "      <th>Lat</th>\n",
       "      <th>Lng</th>\n",
       "      <th>Max Temp</th>\n",
       "      <th>Humidity</th>\n",
       "      <th>Cloudiness</th>\n",
       "      <th>Wind Speed</th>\n",
       "      <th>Date</th>\n",
       "    </tr>\n",
       "  </thead>\n",
       "  <tbody>\n",
       "    <tr>\n",
       "      <th>count</th>\n",
       "      <td>550.000000</td>\n",
       "      <td>550.000000</td>\n",
       "      <td>550.000000</td>\n",
       "      <td>550.000000</td>\n",
       "      <td>550.000000</td>\n",
       "      <td>550.000000</td>\n",
       "      <td>5.500000e+02</td>\n",
       "    </tr>\n",
       "    <tr>\n",
       "      <th>mean</th>\n",
       "      <td>19.973545</td>\n",
       "      <td>17.124400</td>\n",
       "      <td>58.331400</td>\n",
       "      <td>67.890909</td>\n",
       "      <td>52.141818</td>\n",
       "      <td>8.544800</td>\n",
       "      <td>1.585764e+09</td>\n",
       "    </tr>\n",
       "    <tr>\n",
       "      <th>std</th>\n",
       "      <td>33.284840</td>\n",
       "      <td>91.595451</td>\n",
       "      <td>25.795297</td>\n",
       "      <td>20.864881</td>\n",
       "      <td>35.766469</td>\n",
       "      <td>6.078869</td>\n",
       "      <td>5.539674e+01</td>\n",
       "    </tr>\n",
       "    <tr>\n",
       "      <th>min</th>\n",
       "      <td>-54.800000</td>\n",
       "      <td>-179.170000</td>\n",
       "      <td>-11.340000</td>\n",
       "      <td>9.000000</td>\n",
       "      <td>0.000000</td>\n",
       "      <td>0.160000</td>\n",
       "      <td>1.585764e+09</td>\n",
       "    </tr>\n",
       "    <tr>\n",
       "      <th>25%</th>\n",
       "      <td>-8.077500</td>\n",
       "      <td>-64.627500</td>\n",
       "      <td>42.800000</td>\n",
       "      <td>55.000000</td>\n",
       "      <td>20.000000</td>\n",
       "      <td>4.525000</td>\n",
       "      <td>1.585764e+09</td>\n",
       "    </tr>\n",
       "    <tr>\n",
       "      <th>50%</th>\n",
       "      <td>23.630000</td>\n",
       "      <td>19.635000</td>\n",
       "      <td>64.940000</td>\n",
       "      <td>72.000000</td>\n",
       "      <td>57.000000</td>\n",
       "      <td>7.325000</td>\n",
       "      <td>1.585764e+09</td>\n",
       "    </tr>\n",
       "    <tr>\n",
       "      <th>75%</th>\n",
       "      <td>48.672500</td>\n",
       "      <td>97.350000</td>\n",
       "      <td>78.800000</td>\n",
       "      <td>83.000000</td>\n",
       "      <td>86.750000</td>\n",
       "      <td>11.410000</td>\n",
       "      <td>1.585764e+09</td>\n",
       "    </tr>\n",
       "    <tr>\n",
       "      <th>max</th>\n",
       "      <td>78.220000</td>\n",
       "      <td>179.320000</td>\n",
       "      <td>102.200000</td>\n",
       "      <td>100.000000</td>\n",
       "      <td>100.000000</td>\n",
       "      <td>46.080000</td>\n",
       "      <td>1.585764e+09</td>\n",
       "    </tr>\n",
       "  </tbody>\n",
       "</table>\n",
       "</div>"
      ],
      "text/plain": [
       "              Lat         Lng    Max Temp    Humidity  Cloudiness  Wind Speed  \\\n",
       "count  550.000000  550.000000  550.000000  550.000000  550.000000  550.000000   \n",
       "mean    19.973545   17.124400   58.331400   67.890909   52.141818    8.544800   \n",
       "std     33.284840   91.595451   25.795297   20.864881   35.766469    6.078869   \n",
       "min    -54.800000 -179.170000  -11.340000    9.000000    0.000000    0.160000   \n",
       "25%     -8.077500  -64.627500   42.800000   55.000000   20.000000    4.525000   \n",
       "50%     23.630000   19.635000   64.940000   72.000000   57.000000    7.325000   \n",
       "75%     48.672500   97.350000   78.800000   83.000000   86.750000   11.410000   \n",
       "max     78.220000  179.320000  102.200000  100.000000  100.000000   46.080000   \n",
       "\n",
       "               Date  \n",
       "count  5.500000e+02  \n",
       "mean   1.585764e+09  \n",
       "std    5.539674e+01  \n",
       "min    1.585764e+09  \n",
       "25%    1.585764e+09  \n",
       "50%    1.585764e+09  \n",
       "75%    1.585764e+09  \n",
       "max    1.585764e+09  "
      ]
     },
     "execution_count": 6,
     "metadata": {},
     "output_type": "execute_result"
    }
   ],
   "source": [
    "#skip"
   ]
  },
  {
   "cell_type": "code",
   "execution_count": 17,
   "metadata": {},
   "outputs": [
    {
     "data": {
      "text/plain": [
       "Int64Index([], dtype='int64')"
      ]
     },
     "execution_count": 17,
     "metadata": {},
     "output_type": "execute_result"
    }
   ],
   "source": [
    "#  Get the indices of cities that have humidity over 100%.\n"
   ]
  },
  {
   "cell_type": "code",
   "execution_count": 19,
   "metadata": {},
   "outputs": [
    {
     "data": {
      "text/html": [
       "<div>\n",
       "<style scoped>\n",
       "    .dataframe tbody tr th:only-of-type {\n",
       "        vertical-align: middle;\n",
       "    }\n",
       "\n",
       "    .dataframe tbody tr th {\n",
       "        vertical-align: top;\n",
       "    }\n",
       "\n",
       "    .dataframe thead th {\n",
       "        text-align: right;\n",
       "    }\n",
       "</style>\n",
       "<table border=\"1\" class=\"dataframe\">\n",
       "  <thead>\n",
       "    <tr style=\"text-align: right;\">\n",
       "      <th></th>\n",
       "      <th>City</th>\n",
       "      <th>Lat</th>\n",
       "      <th>Lng</th>\n",
       "      <th>Max Temp</th>\n",
       "      <th>Humidity</th>\n",
       "      <th>Cloudiness</th>\n",
       "      <th>Wind Speed</th>\n",
       "      <th>Country</th>\n",
       "      <th>Date</th>\n",
       "    </tr>\n",
       "  </thead>\n",
       "  <tbody>\n",
       "    <tr>\n",
       "      <td>0</td>\n",
       "      <td>butaritari</td>\n",
       "      <td>3.07</td>\n",
       "      <td>172.79</td>\n",
       "      <td>83.32</td>\n",
       "      <td>74</td>\n",
       "      <td>84</td>\n",
       "      <td>10.42</td>\n",
       "      <td>KI</td>\n",
       "      <td>1593605283</td>\n",
       "    </tr>\n",
       "    <tr>\n",
       "      <td>1</td>\n",
       "      <td>yerbogachen</td>\n",
       "      <td>61.28</td>\n",
       "      <td>108.01</td>\n",
       "      <td>79.52</td>\n",
       "      <td>58</td>\n",
       "      <td>20</td>\n",
       "      <td>7.70</td>\n",
       "      <td>RU</td>\n",
       "      <td>1593605121</td>\n",
       "    </tr>\n",
       "    <tr>\n",
       "      <td>2</td>\n",
       "      <td>cape town</td>\n",
       "      <td>-33.93</td>\n",
       "      <td>18.42</td>\n",
       "      <td>73.00</td>\n",
       "      <td>77</td>\n",
       "      <td>27</td>\n",
       "      <td>4.70</td>\n",
       "      <td>ZA</td>\n",
       "      <td>1593605039</td>\n",
       "    </tr>\n",
       "    <tr>\n",
       "      <td>3</td>\n",
       "      <td>touba</td>\n",
       "      <td>8.28</td>\n",
       "      <td>-7.68</td>\n",
       "      <td>79.97</td>\n",
       "      <td>75</td>\n",
       "      <td>82</td>\n",
       "      <td>3.58</td>\n",
       "      <td>CI</td>\n",
       "      <td>1593605284</td>\n",
       "    </tr>\n",
       "    <tr>\n",
       "      <td>4</td>\n",
       "      <td>jamestown</td>\n",
       "      <td>42.10</td>\n",
       "      <td>-79.24</td>\n",
       "      <td>64.00</td>\n",
       "      <td>88</td>\n",
       "      <td>1</td>\n",
       "      <td>6.93</td>\n",
       "      <td>US</td>\n",
       "      <td>1593605284</td>\n",
       "    </tr>\n",
       "  </tbody>\n",
       "</table>\n",
       "</div>"
      ],
      "text/plain": [
       "          City    Lat     Lng  Max Temp  Humidity  Cloudiness  Wind Speed  \\\n",
       "0   butaritari   3.07  172.79     83.32        74          84       10.42   \n",
       "1  yerbogachen  61.28  108.01     79.52        58          20        7.70   \n",
       "2    cape town -33.93   18.42     73.00        77          27        4.70   \n",
       "3        touba   8.28   -7.68     79.97        75          82        3.58   \n",
       "4    jamestown  42.10  -79.24     64.00        88           1        6.93   \n",
       "\n",
       "  Country        Date  \n",
       "0      KI  1593605283  \n",
       "1      RU  1593605121  \n",
       "2      ZA  1593605039  \n",
       "3      CI  1593605284  \n",
       "4      US  1593605284  "
      ]
     },
     "execution_count": 19,
     "metadata": {},
     "output_type": "execute_result"
    }
   ],
   "source": [
    "# Make a new DataFrame equal to the city data to drop all humidity outliers by index.\n",
    "# Passing \"inplace=False\" will make a copy of the city_data DataFrame, which we call \"clean_city_data\".\n"
   ]
  },
  {
   "cell_type": "code",
   "execution_count": null,
   "metadata": {},
   "outputs": [],
   "source": [
    "\n"
   ]
  },
  {
   "cell_type": "markdown",
   "metadata": {},
   "source": [
    "## Plotting the Data\n",
    "* Use proper labeling of the plots using plot titles (including date of analysis) and axes labels.\n",
    "* Save the plotted figures as .pngs."
   ]
  },
  {
   "cell_type": "markdown",
   "metadata": {},
   "source": [
    "## Latitude vs. Temperature Plot"
   ]
  },
  {
   "cell_type": "code",
   "execution_count": 13,
   "metadata": {},
   "outputs": [
    {
     "data": {
      "text/plain": [
       "<matplotlib.collections.PathCollection at 0x1d6633c31d0>"
      ]
     },
     "execution_count": 13,
     "metadata": {},
     "output_type": "execute_result"
    },
    {
     "data": {
      "image/png": "[encoded data removed]",
      "text/plain": [
       "<Figure size 432x288 with 1 Axes>"
      ]
     },
     "metadata": {
      "needs_background": "light"
     },
     "output_type": "display_data"
    }
   ],
   "source": [
    "plt.title(f\"City Latitude vs. Max Temperature\")\n",
    "plt.xlabel(\"Latitude\")\n",
    "plt.ylabel(\"Max Temperature (F)\")\n",
    "plt.grid()\n",
    "plt.scatter(weather['Lat'],weather[\"Max Temp\"],alpha=0.75,edgecolors='black')"
   ]
  },
  {
   "cell_type": "markdown",
   "metadata": {},
   "source": [
    "## Latitude vs. Humidity Plot"
   ]
  },
  {
   "cell_type": "code",
   "execution_count": 14,
   "metadata": {},
   "outputs": [
    {
     "data": {
      "text/plain": [
       "<matplotlib.collections.PathCollection at 0x1d6633e4b00>"
      ]
     },
     "execution_count": 14,
     "metadata": {},
     "output_type": "execute_result"
    },
    {
     "data": {
      "image/png": "[encoded data removed]",
      "text/plain": [
       "<Figure size 432x288 with 1 Axes>"
      ]
     },
     "metadata": {
      "needs_background": "light"
     },
     "output_type": "display_data"
    }
   ],
   "source": [
    "plt.title(f\"City Latitude vs. Humidity\")\n",
    "plt.xlabel(\"Latitude\")\n",
    "plt.ylabel(\"Humidity (%)\")\n",
    "plt.grid()\n",
    "plt.scatter(weather['Lat'],weather[\"Humidity\"],alpha=0.75,edgecolors='black')"
   ]
  },
  {
   "cell_type": "markdown",
   "metadata": {},
   "source": [
    "## Latitude vs. Cloudiness Plot"
   ]
  },
  {
   "cell_type": "code",
   "execution_count": 15,
   "metadata": {},
   "outputs": [
    {
     "data": {
      "text/plain": [
       "<matplotlib.collections.PathCollection at 0x1d6633c3358>"
      ]
     },
     "execution_count": 15,
     "metadata": {},
     "output_type": "execute_result"
    },
    {
     "data": {
      "image/png": "[encoded data removed]",
      "text/plain": [
       "<Figure size 432x288 with 1 Axes>"
      ]
     },
     "metadata": {
      "needs_background": "light"
     },
     "output_type": "display_data"
    }
   ],
   "source": [
    "plt.title(f\"City Latitude vs. Cloudiness\")\n",
    "plt.xlabel(\"Latitude\")\n",
    "plt.ylabel(\"Cloudiness (%)\")\n",
    "plt.grid()\n",
    "plt.scatter(weather['Lat'],weather[\"Cloudiness\"],alpha=0.75,edgecolors='black')"
   ]
  },
  {
   "cell_type": "markdown",
   "metadata": {},
   "source": [
    "## Latitude vs. Wind Speed Plot"
   ]
  },
  {
   "cell_type": "code",
   "execution_count": 16,
   "metadata": {},
   "outputs": [
    {
     "data": {
      "text/plain": [
       "<matplotlib.collections.PathCollection at 0x1d6634bf1d0>"
      ]
     },
     "execution_count": 16,
     "metadata": {},
     "output_type": "execute_result"
    },
    {
     "data": {
      "image/png": "[encoded data removed]",
      "text/plain": [
       "<Figure size 432x288 with 1 Axes>"
      ]
     },
     "metadata": {
      "needs_background": "light"
     },
     "output_type": "display_data"
    }
   ],
   "source": [
    "plt.title(f\"City Latitude vs. Wind Speed\")\n",
    "plt.xlabel(\"Latitude\")\n",
    "plt.ylabel(\"Wind Speed (mph)\")\n",
    "plt.grid()\n",
    "plt.scatter(weather['Lat'],weather[\"Wind Speed\"],alpha=0.75,edgecolors='black')"
   ]
  },
  {
   "cell_type": "code",
   "execution_count": null,
   "metadata": {},
   "outputs": [],
   "source": [
    "Observation:\n",
    "-Cities with approximate 20 lattitude have the highest temperatures\n",
    "\n",
    "-cities with  latitude between 0 -20 have lower windspeed compared to others latitude\n",
    "\n",
    "-city with the lowest lattitude value has the lowest humdity percent "
   ]
  },
  {
   "cell_type": "markdown",
   "metadata": {},
   "source": [
    "## Linear Regression"
   ]
  },
  {
   "cell_type": "code",
   "execution_count": 38,
   "metadata": {},
   "outputs": [
    {
     "data": {
      "text/html": [
       "<div>\n",
       "<style scoped>\n",
       "    .dataframe tbody tr th:only-of-type {\n",
       "        vertical-align: middle;\n",
       "    }\n",
       "\n",
       "    .dataframe tbody tr th {\n",
       "        vertical-align: top;\n",
       "    }\n",
       "\n",
       "    .dataframe thead th {\n",
       "        text-align: right;\n",
       "    }\n",
       "</style>\n",
       "<table border=\"1\" class=\"dataframe\">\n",
       "  <thead>\n",
       "    <tr style=\"text-align: right;\">\n",
       "      <th></th>\n",
       "      <th>city</th>\n",
       "      <th>Lat</th>\n",
       "      <th>Lng</th>\n",
       "      <th>Max Temp</th>\n",
       "      <th>Humidity</th>\n",
       "      <th>Cloudiness</th>\n",
       "      <th>Wind Speed</th>\n",
       "      <th>Country</th>\n",
       "      <th>Date</th>\n",
       "    </tr>\n",
       "  </thead>\n",
       "  <tbody>\n",
       "    <tr>\n",
       "      <th>0</th>\n",
       "      <td>ushuaia</td>\n",
       "      <td>-54.80</td>\n",
       "      <td>-68.30</td>\n",
       "      <td>42.80</td>\n",
       "      <td>70</td>\n",
       "      <td>75</td>\n",
       "      <td>11.41</td>\n",
       "      <td>AR</td>\n",
       "      <td>1603497737</td>\n",
       "    </tr>\n",
       "    <tr>\n",
       "      <th>1</th>\n",
       "      <td>mount gambier</td>\n",
       "      <td>-37.83</td>\n",
       "      <td>140.77</td>\n",
       "      <td>55.40</td>\n",
       "      <td>54</td>\n",
       "      <td>75</td>\n",
       "      <td>21.92</td>\n",
       "      <td>AU</td>\n",
       "      <td>1603497737</td>\n",
       "    </tr>\n",
       "    <tr>\n",
       "      <th>2</th>\n",
       "      <td>caravelas</td>\n",
       "      <td>-17.71</td>\n",
       "      <td>-39.25</td>\n",
       "      <td>72.99</td>\n",
       "      <td>90</td>\n",
       "      <td>90</td>\n",
       "      <td>7.05</td>\n",
       "      <td>BR</td>\n",
       "      <td>1603497738</td>\n",
       "    </tr>\n",
       "    <tr>\n",
       "      <th>3</th>\n",
       "      <td>constitucion</td>\n",
       "      <td>-35.33</td>\n",
       "      <td>-72.42</td>\n",
       "      <td>51.26</td>\n",
       "      <td>82</td>\n",
       "      <td>0</td>\n",
       "      <td>10.87</td>\n",
       "      <td>CL</td>\n",
       "      <td>1603497560</td>\n",
       "    </tr>\n",
       "    <tr>\n",
       "      <th>4</th>\n",
       "      <td>busselton</td>\n",
       "      <td>-33.65</td>\n",
       "      <td>115.33</td>\n",
       "      <td>57.00</td>\n",
       "      <td>69</td>\n",
       "      <td>0</td>\n",
       "      <td>8.99</td>\n",
       "      <td>AU</td>\n",
       "      <td>1603497740</td>\n",
       "    </tr>\n",
       "  </tbody>\n",
       "</table>\n",
       "</div>"
      ],
      "text/plain": [
       "            city    Lat     Lng  Max Temp  Humidity  Cloudiness  Wind Speed  \\\n",
       "0        ushuaia -54.80  -68.30     42.80        70          75       11.41   \n",
       "1  mount gambier -37.83  140.77     55.40        54          75       21.92   \n",
       "2      caravelas -17.71  -39.25     72.99        90          90        7.05   \n",
       "3   constitucion -35.33  -72.42     51.26        82           0       10.87   \n",
       "4      busselton -33.65  115.33     57.00        69           0        8.99   \n",
       "\n",
       "  Country        Date  \n",
       "0      AR  1603497737  \n",
       "1      AU  1603497737  \n",
       "2      BR  1603497738  \n",
       "3      CL  1603497560  \n",
       "4      AU  1603497740  "
      ]
     },
     "execution_count": 38,
     "metadata": {},
     "output_type": "execute_result"
    }
   ],
   "source": [
    "# Create Northern and Southern Hemisphere dataFrames\n",
    "northern=weather.loc[weather.Lat >= 0].reset_index(drop=True)\n",
    "southern = weather[weather.Lat < 0].reset_index(drop=True)\n",
    "#northern.head()\n",
    "southern.head()"
   ]
  },
  {
   "cell_type": "markdown",
   "metadata": {},
   "source": [
    "####  Northern Hemisphere - Max Temp vs. Latitude Linear Regression"
   ]
  },
  {
   "cell_type": "code",
   "execution_count": 35,
   "metadata": {},
   "outputs": [
    {
     "name": "stdout",
     "output_type": "stream",
     "text": [
      "The r-value is: -0.8730007169720485\n"
     ]
    },
    {
     "data": {
      "image/png": "[encoded data removed]",
      "text/plain": [
       "<Figure size 432x288 with 1 Axes>"
      ]
     },
     "metadata": {
      "needs_background": "light"
     },
     "output_type": "display_data"
    }
   ],
   "source": [
    "correlation = st.pearsonr(northern['Lat'],northern[\"Max Temp\"])\n",
    "(slope, intercept, rvalue, pvalue, stderr) = st.linregress(northern['Lat'],northern[\"Max Temp\"])\n",
    "regress_values = northern['Lat'] * slope + intercept\n",
    "line_eq = \"y = \" + str(round(slope,2)) + \"x + \" + str(round(intercept,2))\n",
    "\n",
    "plt.scatter(northern['Lat'],northern[\"Max Temp\"])\n",
    "plt.xlabel(\"Latitude\")\n",
    "plt.ylabel(\"Max Temp\")\n",
    "print(f\"The r-value is: {rvalue}\")\n",
    "plt.annotate(line_eq,(6,10),fontsize=15,color=\"red\")\n",
    "plt.plot(northern['Lat'],regress_values,\"r-\")\n",
    "plt.show()"
   ]
  },
  {
   "cell_type": "markdown",
   "metadata": {},
   "source": [
    "####  Southern Hemisphere - Max Temp vs. Latitude Linear Regression"
   ]
  },
  {
   "cell_type": "code",
   "execution_count": 43,
   "metadata": {},
   "outputs": [
    {
     "name": "stdout",
     "output_type": "stream",
     "text": [
      "The r-value is: 0.6437424344515787\n"
     ]
    },
    {
     "data": {
      "image/png": "[encoded data removed]",
      "text/plain": [
       "<Figure size 432x288 with 1 Axes>"
      ]
     },
     "metadata": {
      "needs_background": "light"
     },
     "output_type": "display_data"
    }
   ],
   "source": [
    "correlation = st.pearsonr(southern['Lat'],southern[\"Max Temp\"])\n",
    "(slope, intercept, rvalue, pvalue, stderr) = st.linregress(southern['Lat'],southern[\"Max Temp\"])\n",
    "regress_values = southern['Lat'] * slope + intercept\n",
    "line_eq = \"y = \" + str(round(slope,2)) + \"x + \" + str(round(intercept,2))\n",
    "\n",
    "plt.scatter(southern['Lat'],southern[\"Max Temp\"])\n",
    "plt.xlabel(\"Latitude\")\n",
    "plt.ylabel(\"Max Temp\")\n",
    "print(f\"The r-value is: {rvalue}\")\n",
    "plt.annotate(line_eq,(-25,50),fontsize=15,color=\"red\")\n",
    "plt.plot(southern['Lat'],regress_values,\"r-\")\n",
    "plt.show()"
   ]
  },
  {
   "cell_type": "markdown",
   "metadata": {},
   "source": [
    "####  Northern Hemisphere - Humidity (%) vs. Latitude Linear Regression"
   ]
  },
  {
   "cell_type": "code",
   "execution_count": 48,
   "metadata": {},
   "outputs": [
    {
     "name": "stdout",
     "output_type": "stream",
     "text": [
      "The r-value is: 0.2337570204226736\n"
     ]
    },
    {
     "data": {
      "image/png": "[encoded data removed]",
      "text/plain": [
       "<Figure size 432x288 with 1 Axes>"
      ]
     },
     "metadata": {
      "needs_background": "light"
     },
     "output_type": "display_data"
    }
   ],
   "source": [
    "correlation = st.pearsonr(northern['Lat'],northern[\"Humidity\"])\n",
    "(slope, intercept, rvalue, pvalue, stderr) = st.linregress(northern['Lat'],northern[\"Humidity\"])\n",
    "regress_values = northern['Lat'] * slope + intercept\n",
    "line_eq = \"y = \" + str(round(slope,2)) + \"x + \" + str(round(intercept,2))\n",
    "\n",
    "plt.scatter(northern['Lat'],northern[\"Humidity\"])\n",
    "plt.xlabel(\"Latitude\")\n",
    "plt.ylabel(\"Humidity\")\n",
    "print(f\"The r-value is: {rvalue}\")\n",
    "plt.annotate(line_eq,(45,10),fontsize=15,color=\"red\")\n",
    "plt.plot(northern['Lat'],regress_values,\"r-\")\n",
    "plt.show()"
   ]
  },
  {
   "cell_type": "markdown",
   "metadata": {},
   "source": [
    "####  Southern Hemisphere - Humidity (%) vs. Latitude Linear Regression"
   ]
  },
  {
   "cell_type": "code",
   "execution_count": 49,
   "metadata": {},
   "outputs": [
    {
     "name": "stdout",
     "output_type": "stream",
     "text": [
      "The r-value is: 0.153058026686544\n"
     ]
    },
    {
     "data": {
      "image/png": "[encoded data removed]",
      "text/plain": [
       "<Figure size 432x288 with 1 Axes>"
      ]
     },
     "metadata": {
      "needs_background": "light"
     },
     "output_type": "display_data"
    }
   ],
   "source": [
    "correlation = st.pearsonr(southern['Lat'],southern[\"Humidity\"])\n",
    "(slope, intercept, rvalue, pvalue, stderr) = st.linregress(southern['Lat'],southern[\"Humidity\"])\n",
    "regress_values = southern['Lat'] * slope + intercept\n",
    "line_eq = \"y = \" + str(round(slope,2)) + \"x + \" + str(round(intercept,2))\n",
    "\n",
    "plt.scatter(southern['Lat'],southern[\"Humidity\"])\n",
    "plt.xlabel(\"Latitude\")\n",
    "plt.ylabel(\"Humidity\")\n",
    "print(f\"The r-value is: {rvalue}\")\n",
    "plt.annotate(line_eq,(-25,50),fontsize=15,color=\"red\")\n",
    "plt.plot(southern['Lat'],regress_values,\"r-\")\n",
    "plt.show()"
   ]
  },
  {
   "cell_type": "markdown",
   "metadata": {},
   "source": [
    "####  Northern Hemisphere - Cloudiness (%) vs. Latitude Linear Regression"
   ]
  },
  {
   "cell_type": "code",
   "execution_count": 50,
   "metadata": {},
   "outputs": [
    {
     "name": "stdout",
     "output_type": "stream",
     "text": [
      "The r-value is: 0.12522010370874065\n"
     ]
    },
    {
     "data": {
      "image/png": "[encoded data removed]",
      "text/plain": [
       "<Figure size 432x288 with 1 Axes>"
      ]
     },
     "metadata": {
      "needs_background": "light"
     },
     "output_type": "display_data"
    }
   ],
   "source": [
    "correlation = st.pearsonr(northern['Lat'],northern[\"Cloudiness\"])\n",
    "(slope, intercept, rvalue, pvalue, stderr) = st.linregress(northern['Lat'],northern[\"Cloudiness\"])\n",
    "regress_values = northern['Lat'] * slope + intercept\n",
    "line_eq = \"y = \" + str(round(slope,2)) + \"x + \" + str(round(intercept,2))\n",
    "\n",
    "plt.scatter(northern['Lat'],northern[\"Cloudiness\"])\n",
    "plt.xlabel(\"Latitude\")\n",
    "plt.ylabel(\"Cloudiness\")\n",
    "print(f\"The r-value is: {rvalue}\")\n",
    "plt.annotate(line_eq,(45,10),fontsize=15,color=\"red\")\n",
    "plt.plot(northern['Lat'],regress_values,\"r-\")\n",
    "plt.show()"
   ]
  },
  {
   "cell_type": "markdown",
   "metadata": {},
   "source": [
    "####  Southern Hemisphere - Cloudiness (%) vs. Latitude Linear Regression"
   ]
  },
  {
   "cell_type": "code",
   "execution_count": 53,
   "metadata": {},
   "outputs": [
    {
     "name": "stdout",
     "output_type": "stream",
     "text": [
      "The r-value is: -0.04380318626982932\n"
     ]
    },
    {
     "data": {
      "image/png": "[encoded data removed]",
      "text/plain": [
       "<Figure size 432x288 with 1 Axes>"
      ]
     },
     "metadata": {
      "needs_background": "light"
     },
     "output_type": "display_data"
    }
   ],
   "source": [
    "correlation = st.pearsonr(southern['Lat'],southern[\"Cloudiness\"])\n",
    "(slope, intercept, rvalue, pvalue, stderr) = st.linregress(southern['Lat'],southern[\"Cloudiness\"])\n",
    "regress_values = southern['Lat'] * slope + intercept\n",
    "line_eq = \"y = \" + str(round(slope,2)) + \"x + \" + str(round(intercept,2))\n",
    "\n",
    "plt.scatter(southern['Lat'],southern[\"Cloudiness\"])\n",
    "plt.xlabel(\"Latitude\")\n",
    "plt.ylabel(\"Cloudiness\")\n",
    "print(f\"The r-value is: {rvalue}\")\n",
    "plt.annotate(line_eq,(-50,20),fontsize=15,color=\"red\")\n",
    "plt.plot(southern['Lat'],regress_values,\"r-\")\n",
    "plt.show()"
   ]
  },
  {
   "cell_type": "markdown",
   "metadata": {},
   "source": [
    "####  Northern Hemisphere - Wind Speed (mph) vs. Latitude Linear Regression"
   ]
  },
  {
   "cell_type": "code",
   "execution_count": 55,
   "metadata": {},
   "outputs": [
    {
     "name": "stdout",
     "output_type": "stream",
     "text": [
      "The r-value is: 0.16564038733986072\n"
     ]
    },
    {
     "data": {
      "image/png": "[encoded data removed]",
      "text/plain": [
       "<Figure size 432x288 with 1 Axes>"
      ]
     },
     "metadata": {
      "needs_background": "light"
     },
     "output_type": "display_data"
    }
   ],
   "source": [
    "correlation = st.pearsonr(northern['Lat'],northern[\"Wind Speed\"])\n",
    "(slope, intercept, rvalue, pvalue, stderr) = st.linregress(northern['Lat'],northern[\"Wind Speed\"])\n",
    "regress_values = northern['Lat'] * slope + intercept\n",
    "line_eq = \"y = \" + str(round(slope,2)) + \"x + \" + str(round(intercept,2))\n",
    "\n",
    "plt.scatter(northern['Lat'],northern[\"Wind Speed\"])\n",
    "plt.xlabel(\"Latitude\")\n",
    "plt.ylabel(\"Wind Speed\")\n",
    "print(f\"The r-value is: {rvalue}\")\n",
    "plt.annotate(line_eq,(45,30),fontsize=15,color=\"red\")\n",
    "plt.plot(northern['Lat'],regress_values,\"r-\")\n",
    "plt.show()"
   ]
  },
  {
   "cell_type": "markdown",
   "metadata": {},
   "source": [
    "####  Southern Hemisphere - Wind Speed (mph) vs. Latitude Linear Regression"
   ]
  },
  {
   "cell_type": "code",
   "execution_count": 56,
   "metadata": {},
   "outputs": [
    {
     "name": "stdout",
     "output_type": "stream",
     "text": [
      "The r-value is: -0.25256691804272896\n"
     ]
    },
    {
     "data": {
      "image/png": "[encoded data removed]",
      "text/plain": [
       "<Figure size 432x288 with 1 Axes>"
      ]
     },
     "metadata": {
      "needs_background": "light"
     },
     "output_type": "display_data"
    }
   ],
   "source": [
    "correlation = st.pearsonr(southern['Lat'],southern[\"Wind Speed\"])\n",
    "(slope, intercept, rvalue, pvalue, stderr) = st.linregress(southern['Lat'],southern[\"Wind Speed\"])\n",
    "regress_values = southern['Lat'] * slope + intercept\n",
    "line_eq = \"y = \" + str(round(slope,2)) + \"x + \" + str(round(intercept,2))\n",
    "\n",
    "plt.scatter(southern['Lat'],southern[\"Wind Speed\"])\n",
    "plt.xlabel(\"Latitude\")\n",
    "plt.ylabel(\"Wind Speed\")\n",
    "print(f\"The r-value is: {rvalue}\")\n",
    "plt.annotate(line_eq,(-50,20),fontsize=15,color=\"red\")\n",
    "plt.plot(southern['Lat'],regress_values,\"r-\")\n",
    "plt.show()"
   ]
  },
  {
   "cell_type": "code",
   "execution_count": null,
   "metadata": {},
   "outputs": [],
   "source": [
    "Observation:\n",
    "-Very weak correlation between northern and southern hemispheres:\n",
    "--most of the wind speeds are below 20 mph for northern latitude but in southern latitude\n",
    "--most of the wind speeds are scattered below 15-20 mph."
   ]
  }
 ],
 "metadata": {
  "anaconda-cloud": {},
  "kernel_info": {
   "name": "python3"
  },
  "kernelspec": {
   "display_name": "Python [conda env:.conda-PythonData] *",
   "language": "python",
   "name": "conda-env-.conda-PythonData-py"
  },
  "language_info": {
   "codemirror_mode": {
    "name": "ipython",
    "version": 3
   },
   "file_extension": ".py",
   "mimetype": "text/x-python",
   "name": "python",
   "nbconvert_exporter": "python",
   "pygments_lexer": "ipython3",
   "version": "3.7.1"
  },
  "latex_envs": {
   "LaTeX_envs_menu_present": true,
   "autoclose": false,
   "autocomplete": true,
   "bibliofile": "biblio.bib",
   "cite_by": "apalike",
   "current_citInitial": 1,
   "eqLabelWithNumbers": true,
   "eqNumInitial": 1,
   "hotkeys": {
    "equation": "Ctrl-E",
    "itemize": "Ctrl-I"
   },
   "labels_anchors": false,
   "latex_user_defs": false,
   "report_style_numbering": false,
   "user_envs_cfg": false
  },
  "nteract": {
   "version": "0.12.3"
  }
 },
 "nbformat": 4,
 "nbformat_minor": 2
}
